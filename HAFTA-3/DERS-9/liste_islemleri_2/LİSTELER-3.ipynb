{
 "metadata": {
  "language_info": {
   "codemirror_mode": {
    "name": "ipython",
    "version": 3
   },
   "file_extension": ".py",
   "mimetype": "text/x-python",
   "name": "python",
   "nbconvert_exporter": "python",
   "pygments_lexer": "ipython3",
   "version": "3.9.1-final"
  },
  "orig_nbformat": 2,
  "kernelspec": {
   "name": "python39164bit7ee06a11c10a40069e8e41bc7f75dd47",
   "display_name": "Python 3.9.1 64-bit",
   "language": "python"
  }
 },
 "nbformat": 4,
 "nbformat_minor": 2,
 "cells": [
  {
   "source": [
    "SORT- listenin elemanlarını sıralamak"
   ],
   "cell_type": "markdown",
   "metadata": {}
  },
  {
   "cell_type": "code",
   "execution_count": 1,
   "metadata": {},
   "outputs": [],
   "source": [
    "sayilar = [10,5,34,23]\n",
    "sayilar.sort()\n"
   ]
  },
  {
   "cell_type": "code",
   "execution_count": 2,
   "metadata": {},
   "outputs": [
    {
     "output_type": "stream",
     "name": "stdout",
     "text": [
      "[5, 10, 23, 34]\n"
     ]
    }
   ],
   "source": [
    "print(sayilar)"
   ]
  },
  {
   "cell_type": "code",
   "execution_count": 4,
   "metadata": {},
   "outputs": [],
   "source": [
    "sayilar.reverse()"
   ]
  },
  {
   "source": [
    "REVERSE- elemanları ters yazıyor-(birinci sona...)"
   ],
   "cell_type": "markdown",
   "metadata": {}
  },
  {
   "cell_type": "code",
   "execution_count": 5,
   "metadata": {},
   "outputs": [
    {
     "output_type": "stream",
     "name": "stdout",
     "text": [
      "[34, 23, 10, 5]\n"
     ]
    }
   ],
   "source": [
    "print(sayilar)"
   ]
  },
  {
   "cell_type": "code",
   "execution_count": 6,
   "metadata": {},
   "outputs": [
    {
     "output_type": "stream",
     "name": "stdout",
     "text": [
      "[2, 3, 4]\n[2, 3, 4]\n"
     ]
    }
   ],
   "source": [
    "a_listesi =[2,3,4]\n",
    "b_listesi = a_listesi\n",
    "print(a_listesi)\n",
    "print(b_listesi)\n"
   ]
  },
  {
   "cell_type": "code",
   "execution_count": 7,
   "metadata": {},
   "outputs": [
    {
     "output_type": "stream",
     "name": "stdout",
     "text": [
      "[2, 3, 4, 5]\n[2, 3, 4, 5]\n"
     ]
    }
   ],
   "source": [
    "b_listesi.append(5)\n",
    "print(a_listesi)\n",
    "print(b_listesi)"
   ]
  },
  {
   "cell_type": "code",
   "execution_count": 8,
   "metadata": {},
   "outputs": [],
   "source": [
    "buyuk_liste = [23, 3, 5, 6, 10, 20, 33]"
   ]
  },
  {
   "cell_type": "code",
   "execution_count": 11,
   "metadata": {},
   "outputs": [
    {
     "output_type": "stream",
     "name": "stdout",
     "text": [
      "[3, 5, 6]\n"
     ]
    }
   ],
   "source": [
    "parca_1 = buyuk_liste[1:4] #1.2.3.indexleri alması içinn\n",
    "print(parca_1)"
   ]
  },
  {
   "cell_type": "code",
   "execution_count": 10,
   "metadata": {},
   "outputs": [
    {
     "output_type": "stream",
     "name": "stdout",
     "text": [
      "[23, 3, 5, 6, 10, 20, 33]\n"
     ]
    }
   ],
   "source": [
    "print(buyuk_liste)"
   ]
  },
  {
   "cell_type": "code",
   "execution_count": 12,
   "metadata": {},
   "outputs": [
    {
     "output_type": "stream",
     "name": "stdout",
     "text": [
      "[23, 3, 5, 6, 10, 20, 33]\n"
     ]
    }
   ],
   "source": [
    "yeni_b1 = buyuk_liste[:] #kopyasını oluşturmak için\n",
    "print(yeni_b1)"
   ]
  },
  {
   "cell_type": "code",
   "execution_count": 13,
   "metadata": {},
   "outputs": [
    {
     "output_type": "stream",
     "name": "stdout",
     "text": [
      "[23, 3, 5, 6, 20, 33]\n"
     ]
    }
   ],
   "source": [
    "yeni_b1.remove(10) #10 değerini yeni listeden sildik\n",
    "print(yeni_b1)\n"
   ]
  },
  {
   "cell_type": "code",
   "execution_count": 14,
   "metadata": {},
   "outputs": [
    {
     "output_type": "stream",
     "name": "stdout",
     "text": [
      "[23, 3, 5, 6, 10, 20, 33]\n"
     ]
    }
   ],
   "source": [
    "print(buyuk_liste) #buyuk_listede değişiklik var mı diye bakıyoruz"
   ]
  },
  {
   "cell_type": "code",
   "execution_count": 1,
   "metadata": {},
   "outputs": [],
   "source": [
    "buyuk_liste = [23, 3, 5, 6, 10, 20, 33]"
   ]
  },
  {
   "cell_type": "code",
   "execution_count": 3,
   "metadata": {},
   "outputs": [
    {
     "output_type": "stream",
     "name": "stdout",
     "text": [
      "[3, 5, 6]\n"
     ]
    }
   ],
   "source": [
    "parca1 = buyuk_liste[1:-3] #ilk değer başlangıç,ikinci bitiş değerii(2.dahil değil)\n",
    "print(parca1)"
   ]
  },
  {
   "cell_type": "code",
   "execution_count": 4,
   "metadata": {},
   "outputs": [
    {
     "output_type": "stream",
     "name": "stdout",
     "text": [
      "[6, 10, 20, 33]\n"
     ]
    }
   ],
   "source": [
    "parca2 = buyuk_liste[3:]\n",
    "print(parca2)"
   ]
  },
  {
   "cell_type": "code",
   "execution_count": 5,
   "metadata": {},
   "outputs": [
    {
     "output_type": "stream",
     "name": "stdout",
     "text": [
      "[23, 3, 5, 6]\n"
     ]
    }
   ],
   "source": [
    "parca3 = buyuk_liste[:4]\n",
    "print(parca3)"
   ]
  },
  {
   "cell_type": "code",
   "execution_count": 6,
   "metadata": {},
   "outputs": [
    {
     "output_type": "stream",
     "name": "stdout",
     "text": [
      "False\n"
     ]
    }
   ],
   "source": [
    "print(45 in buyuk_liste)"
   ]
  },
  {
   "cell_type": "code",
   "execution_count": 7,
   "metadata": {},
   "outputs": [
    {
     "output_type": "stream",
     "name": "stdout",
     "text": [
      "True\n"
     ]
    }
   ],
   "source": [
    "print(45 not in buyuk_liste)"
   ]
  },
  {
   "source": [
    "DİZİ(ARRAY)"
   ],
   "cell_type": "markdown",
   "metadata": {}
  },
  {
   "cell_type": "code",
   "execution_count": 8,
   "metadata": {},
   "outputs": [],
   "source": [
    "liste = [[1,2,3] , [4,5,6]]"
   ]
  },
  {
   "cell_type": "code",
   "execution_count": 9,
   "metadata": {},
   "outputs": [
    {
     "output_type": "execute_result",
     "data": {
      "text/plain": [
       "3"
      ]
     },
     "metadata": {},
     "execution_count": 9
    }
   ],
   "source": [
    "liste [0] [2]"
   ]
  },
  {
   "cell_type": "code",
   "execution_count": 13,
   "metadata": {},
   "outputs": [],
   "source": [
    "liste = [ [[1,2,3], [4,5,6]], [[10,20,30], [40,50,60]] ]"
   ]
  },
  {
   "cell_type": "code",
   "execution_count": 14,
   "metadata": {},
   "outputs": [
    {
     "output_type": "execute_result",
     "data": {
      "text/plain": [
       "20"
      ]
     },
     "metadata": {},
     "execution_count": 14
    }
   ],
   "source": [
    "liste [1][0][1]"
   ]
  },
  {
   "source": [
    "---LİSTE ÜRETEÇLERİ---"
   ],
   "cell_type": "markdown",
   "metadata": {}
  },
  {
   "cell_type": "code",
   "execution_count": 15,
   "metadata": {},
   "outputs": [
    {
     "output_type": "stream",
     "name": "stdout",
     "text": [
      "[0, 1, 2, 3, 4]\n"
     ]
    }
   ],
   "source": [
    "listem = [ i for i in range(5)]\n",
    "print(listem)"
   ]
  },
  {
   "source": [
    "alttakiyle aynı şeyy"
   ],
   "cell_type": "markdown",
   "metadata": {}
  },
  {
   "cell_type": "code",
   "execution_count": 17,
   "metadata": {},
   "outputs": [
    {
     "output_type": "stream",
     "name": "stdout",
     "text": [
      "[0, 1, 2, 3, 4]\n"
     ]
    }
   ],
   "source": [
    "lst = []\n",
    "for i in range(5):\n",
    "    lst.append(i)\n",
    "print(lst)"
   ]
  },
  {
   "cell_type": "code",
   "execution_count": 18,
   "metadata": {},
   "outputs": [
    {
     "output_type": "stream",
     "name": "stdout",
     "text": [
      "[0, 1, 8, 27, 64]\n"
     ]
    }
   ],
   "source": [
    "listem = [ (i**3) for i in range(5)]\n",
    "print(listem)"
   ]
  },
  {
   "cell_type": "code",
   "execution_count": 20,
   "metadata": {},
   "outputs": [
    {
     "output_type": "stream",
     "name": "stdout",
     "text": [
      "[0, 8, 64]\n"
     ]
    }
   ],
   "source": [
    "listem = [ (i**3) for i in range(5) if i % 2 == 0]\n",
    "print(listem)"
   ]
  },
  {
   "source": [
    "ALTTAKİYLE AYNII"
   ],
   "cell_type": "markdown",
   "metadata": {}
  },
  {
   "cell_type": "code",
   "execution_count": 34,
   "metadata": {},
   "outputs": [
    {
     "output_type": "stream",
     "name": "stdout",
     "text": [
      "[0, 8, 64]\n"
     ]
    }
   ],
   "source": [
    "lst = []\n",
    "for i in range(5):\n",
    "    if i % 2 == 0:\n",
    "        i = i**3\n",
    "        lst.append(i)\n",
    "print(lst)\n"
   ]
  },
  {
   "cell_type": "code",
   "execution_count": 33,
   "metadata": {},
   "outputs": [
    {
     "output_type": "stream",
     "name": "stdout",
     "text": [
      "[[0, 1, 2, 3, 4, 5], [0, 1, 2, 3, 4, 5], [0, 1, 2, 3, 4, 5], [0, 1, 2, 3, 4, 5], [0, 1, 2, 3, 4, 5]]\n"
     ]
    }
   ],
   "source": [
    "listem2 = [[i for i in range(6)] for i in range(5)]\n",
    "print(listem2)"
   ]
  },
  {
   "cell_type": "code",
   "execution_count": null,
   "metadata": {},
   "outputs": [],
   "source": []
  }
 ]
}