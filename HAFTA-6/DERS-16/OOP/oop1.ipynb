{
 "metadata": {
  "language_info": {
   "codemirror_mode": {
    "name": "ipython",
    "version": 3
   },
   "file_extension": ".py",
   "mimetype": "text/x-python",
   "name": "python",
   "nbconvert_exporter": "python",
   "pygments_lexer": "ipython3",
   "version": "3.9.1-final"
  },
  "orig_nbformat": 2,
  "kernelspec": {
   "name": "python3",
   "display_name": "Python 3.9.1 64-bit",
   "metadata": {
    "interpreter": {
     "hash": "5f51ddfaf8b2bda7e9920d2fe19bd5c12735de5dbebc79f1545cb9fd80f99b2c"
    }
   }
  }
 },
 "nbformat": 4,
 "nbformat_minor": 2,
 "cells": [
  {
   "source": [
    "Nesneye Yönelik Programlama\n",
    "(Object Oriented Programming)"
   ],
   "cell_type": "markdown",
   "metadata": {}
  },
  {
   "source": [
    "Nesne ( Object ) - Sınıf ( class )"
   ],
   "cell_type": "markdown",
   "metadata": {}
  },
  {
   "cell_type": "code",
   "execution_count": 1,
   "metadata": {},
   "outputs": [
    {
     "output_type": "execute_result",
     "data": {
      "text/plain": [
       "int"
      ]
     },
     "metadata": {},
     "execution_count": 1
    }
   ],
   "source": [
    "a = 5\n",
    "type(a)"
   ]
  },
  {
   "source": [
    "Kalem - rengi, türü, şekli, boyu,//\n",
    "yazı, resim, çizim "
   ],
   "cell_type": "markdown",
   "metadata": {}
  },
  {
   "source": [
    "Bir nesne kullanmak için\n",
    "önce bir tane bu nesne için\n",
    "bir şablon oluştur.\n",
    "Bu şablonu kullanarak nesne den birden fazla oluşturabiliriz."
   ],
   "cell_type": "markdown",
   "metadata": {}
  },
  {
   "source": [
    "Sınıf - class olarak isimlendir."
   ],
   "cell_type": "markdown",
   "metadata": {}
  },
  {
   "source": [
    "Nesnenin özelliklerini içeren bir plandır."
   ],
   "cell_type": "markdown",
   "metadata": {}
  },
  {
   "source": [
    "Nesneler içerisinde veri taşır"
   ],
   "cell_type": "markdown",
   "metadata": {}
  },
  {
   "source": [
    "Sınıf oluşturma : Paketleme (encapsulation)\n"
   ],
   "cell_type": "markdown",
   "metadata": {}
  },
  {
   "source": [
    " instantiation - bir sınıfın örneğini ( nesne oluşturmak ) oluşturmak.\n",
    "\n",
    " kalem1 = Kalem()\n",
    "\n",
    " örnek - instance"
   ],
   "cell_type": "markdown",
   "metadata": {}
  },
  {
   "source": [
    "constructor - yapıcı metod - nesne tanımlandığında çalışır."
   ],
   "cell_type": "markdown",
   "metadata": {}
  },
  {
   "cell_type": "code",
   "execution_count": 2,
   "metadata": {},
   "outputs": [],
   "source": [
    "from ornek_sinif import Kalem"
   ]
  },
  {
   "cell_type": "code",
   "execution_count": 3,
   "metadata": {},
   "outputs": [
    {
     "output_type": "execute_result",
     "data": {
      "text/plain": [
       "['__class__',\n",
       " '__delattr__',\n",
       " '__dict__',\n",
       " '__dir__',\n",
       " '__doc__',\n",
       " '__eq__',\n",
       " '__format__',\n",
       " '__ge__',\n",
       " '__getattribute__',\n",
       " '__gt__',\n",
       " '__hash__',\n",
       " '__init__',\n",
       " '__init_subclass__',\n",
       " '__le__',\n",
       " '__lt__',\n",
       " '__module__',\n",
       " '__ne__',\n",
       " '__new__',\n",
       " '__reduce__',\n",
       " '__reduce_ex__',\n",
       " '__repr__',\n",
       " '__setattr__',\n",
       " '__sizeof__',\n",
       " '__str__',\n",
       " '__subclasshook__',\n",
       " '__weakref__',\n",
       " 'renk',\n",
       " 'yazdir']"
      ]
     },
     "metadata": {},
     "execution_count": 3
    }
   ],
   "source": [
    "kalem1 = Kalem()\n",
    "dir(kalem1)"
   ]
  },
  {
   "source": [
    "Değişken tanımlaması :\n",
    "1- Sınıfın değişkeni : Sınıftan oluşturulan her nesne için aynıdır.\n",
    "2- Nesne değişkeni : Sınıftan oluşturulan her nesne için farklıdır."
   ],
   "cell_type": "markdown",
   "metadata": {}
  }
 ]
}