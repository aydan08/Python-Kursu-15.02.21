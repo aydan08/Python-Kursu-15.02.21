{
 "metadata": {
  "language_info": {
   "codemirror_mode": {
    "name": "ipython",
    "version": 3
   },
   "file_extension": ".py",
   "mimetype": "text/x-python",
   "name": "python",
   "nbconvert_exporter": "python",
   "pygments_lexer": "ipython3",
   "version": "3.9.1-final"
  },
  "orig_nbformat": 2,
  "kernelspec": {
   "name": "python39164bit7ee06a11c10a40069e8e41bc7f75dd47",
   "display_name": "Python 3.9.1 64-bit",
   "language": "python"
  }
 },
 "nbformat": 4,
 "nbformat_minor": 2,
 "cells": [
  {
   "cell_type": "code",
   "execution_count": 1,
   "metadata": {},
   "outputs": [],
   "source": [
    "a = 5 # stack -- str, float // value (değer) türünde"
   ]
  },
  {
   "cell_type": "code",
   "execution_count": 2,
   "metadata": {},
   "outputs": [],
   "source": [
    "liste = [5,9,3] # veri-->heap, veri adresi --> stack\n",
    "# reference (referans) türünde"
   ]
  },
  {
   "cell_type": "code",
   "execution_count": 3,
   "metadata": {},
   "outputs": [],
   "source": [
    "liste2 = liste # sadece liste nin adresi liste2 de stack kısmına kayıt edilir. Ama veri çoğaltılmaz\n",
    "# Veri üzerinde yapılan değişiklik iki listeyi de etkiler"
   ]
  },
  {
   "cell_type": "code",
   "execution_count": 4,
   "metadata": {},
   "outputs": [],
   "source": [
    "liste3 = liste[:] # veri yeniden oluşturulur. Veri üzerinde yapılan değişiklikler birbirini etkilemez."
   ]
  },
  {
   "cell_type": "code",
   "execution_count": 2,
   "metadata": {},
   "outputs": [
    {
     "output_type": "stream",
     "name": "stdout",
     "text": [
      "b\n"
     ]
    }
   ],
   "source": [
    "class A():\n",
    "    def a(self):\n",
    "        print('a')\n",
    "\n",
    "class B():\n",
    "    def a(self):\n",
    "        print('b')\n",
    "\n",
    "class C(B,A):\n",
    "    def c(self):\n",
    "        self.a()\n",
    "\n",
    "o = C()\n",
    "o.c()"
   ]
  },
  {
   "cell_type": "code",
   "execution_count": 3,
   "metadata": {},
   "outputs": [
    {
     "output_type": "stream",
     "name": "stdout",
     "text": [
      "[1, 3, 9]\n"
     ]
    }
   ],
   "source": [
    "liste_1 = [x for x in range(3)]\n",
    "\n",
    "liste_2 = list(map(lambda x: 3 ** x, liste_1))\n",
    "\n",
    "print(liste_2)"
   ]
  },
  {
   "cell_type": "code",
   "execution_count": 4,
   "metadata": {},
   "outputs": [
    {
     "output_type": "stream",
     "name": "stdout",
     "text": [
      "2\n"
     ]
    }
   ],
   "source": [
    "class A:\n",
    "     def __init__(self, v = 1):\n",
    "          self.v = v\n",
    "\n",
    "     def set(self, v):\n",
    "          self.v = v\n",
    "          return v\n",
    "\n",
    "a = A()\n",
    "\n",
    "print(a.set(a.v + 1))"
   ]
  },
  {
   "cell_type": "code",
   "execution_count": 5,
   "metadata": {},
   "outputs": [
    {
     "output_type": "stream",
     "name": "stdout",
     "text": [
      "******\n"
     ]
    }
   ],
   "source": [
    "def y(p):\n",
    "    def q():\n",
    "        return '**' * p\n",
    "    return q\n",
    "\n",
    "r = y(1)\n",
    "s = y(2)\n",
    "print(r() + s())\n"
   ]
  },
  {
   "cell_type": "code",
   "execution_count": 6,
   "metadata": {},
   "outputs": [
    {
     "output_type": "stream",
     "name": "stdout",
     "text": [
      "ozel_istisna\n"
     ]
    }
   ],
   "source": [
    "class OzelIstisna(Exception):\n",
    "    def __init__(self, mesaj):\n",
    "        Exception.__init__(self, mesaj + mesaj)\n",
    "        self.args = (mesaj,)\n",
    "\n",
    "try:\n",
    "    raise OzelIstisna('ozel_istisna')\n",
    "except OzelIstisna as istisna_mesaji:\n",
    "    print(istisna_mesaji)\n",
    "except Exception as istisna_mesaji:\n",
    "    print(istisna_mesaji)\n"
   ]
  },
  {
   "cell_type": "code",
   "execution_count": 7,
   "metadata": {},
   "outputs": [],
   "source": [
    "class Ders():\n",
    "    def __init__(self, ders_ad):\n",
    "        self.ders_ad = ders_ad\n",
    "\n",
    "    def __str__(self):\n",
    "        return \"Dersimizin adı: \" + self.ders_ad\n",
    "\n",
    "class Python(Ders):\n",
    "    pass\n",
    "\n",
    "class Java(Ders):\n",
    "    pass"
   ]
  },
  {
   "cell_type": "code",
   "execution_count": 8,
   "metadata": {},
   "outputs": [
    {
     "output_type": "stream",
     "name": "stdout",
     "text": [
      "Dersimizin adı: Python\n"
     ]
    }
   ],
   "source": [
    "class Ders():\n",
    "    def __init__(self, ders_ad = \"Programlama\"):\n",
    "        self.ders_ad = ders_ad\n",
    "\n",
    "    def __str__(self):\n",
    "        return \"Dersimizin adı: \" + self.ders_ad\n",
    "\n",
    "class Python(Ders):\n",
    "    pass\n",
    "\n",
    "class Java(Ders):\n",
    "    pass\n",
    "\n",
    "ders = Python(\"Python\")\n",
    "print(ders)"
   ]
  },
  {
   "cell_type": "code",
   "execution_count": 9,
   "metadata": {},
   "outputs": [
    {
     "output_type": "stream",
     "name": "stdout",
     "text": [
      "4\n"
     ]
    }
   ],
   "source": [
    "class A():\n",
    "    X = 0\n",
    "    def __init__(self, d = 1):\n",
    "        self.Y = d\n",
    "        A.X += d\n",
    "\n",
    "a = A()\n",
    "b = A(1)\n",
    "c = A(2)\n",
    "print(c.X)\n"
   ]
  },
  {
   "cell_type": "code",
   "execution_count": null,
   "metadata": {},
   "outputs": [],
   "source": []
  }
 ]
}